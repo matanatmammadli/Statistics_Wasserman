{
  "nbformat": 4,
  "nbformat_minor": 0,
  "metadata": {
    "colab": {
      "name": "Wasserman_Chapter_8.ipynb",
      "provenance": [],
      "authorship_tag": "ABX9TyO0LlRBAaZ0r6JmEF2fBumF",
      "include_colab_link": true
    },
    "kernelspec": {
      "name": "python3",
      "display_name": "Python 3"
    },
    "language_info": {
      "name": "python"
    }
  },
  "cells": [
    {
      "cell_type": "markdown",
      "metadata": {
        "id": "view-in-github",
        "colab_type": "text"
      },
      "source": [
        "<a href=\"https://colab.research.google.com/github/sajad13901/Statistics_Wasserman/blob/main/Wasserman_Chapter_8.ipynb\" target=\"_parent\"><img src=\"https://colab.research.google.com/assets/colab-badge.svg\" alt=\"Open In Colab\"/></a>"
      ]
    },
    {
      "cell_type": "code",
      "execution_count": 1,
      "metadata": {
        "colab": {
          "base_uri": "https://localhost:8080/"
        },
        "id": "5EuHOEDDemoj",
        "outputId": "98b1e53d-9542-40e4-cffb-74f7d7ec7ca2"
      },
      "outputs": [
        {
          "output_type": "stream",
          "name": "stdout",
          "text": [
            "data size: 799\n",
            "skew_hat: 1.76\n",
            "skew_hat variance: 0.16\n"
          ]
        }
      ],
      "source": [
        "# Chapter 8, nerve data, Example 8.2\n",
        "from google.colab import files\n",
        "import numpy as np\n",
        "from scipy.stats import norm\n",
        "import pandas as pd\n",
        "import matplotlib.pyplot as plt\n",
        "\n",
        "# uploaded = files.upload()\n",
        "df = pd.read_csv('https://raw.githubusercontent.com/sajad13901/Statistics_Wasserman/main/nerve.txt', delimiter= '\\s+', index_col=False)\n",
        "data = df.waiting_time\n",
        "n, mu, sigma = data.size, data.mean(), data.std()\n",
        "\n",
        "def calc_skew(data):\n",
        "    n, mu, sigma = data.size, data.mean(), data.std()\n",
        "    tmp = 0;\n",
        "    for element in data:\n",
        "        tmp += (element - mu)**3\n",
        "    return tmp/(n * sigma**3)\n",
        "\n",
        "# use bootstrap to calc variance\n",
        "sigma_samples = []\n",
        "B = 1000\n",
        "for _ in range(B):\n",
        "    tmp_data = np.random.choice(data, size=n, replace=True)\n",
        "    sigma_samples.append(calc_skew(tmp_data))\n",
        "\n",
        "print('data size:', n)\n",
        "print('skew_hat:', round(calc_skew(data),2))\n",
        "print('skew_hat variance:', round(np.std(sigma_samples),2))\n"
      ]
    }
  ]
}