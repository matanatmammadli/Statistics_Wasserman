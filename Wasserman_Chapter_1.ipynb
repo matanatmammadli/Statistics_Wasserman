{
  "nbformat": 4,
  "nbformat_minor": 0,
  "metadata": {
    "colab": {
      "name": "Wasserman_Chapter_1.ipynb",
      "provenance": [],
      "collapsed_sections": []
    },
    "kernelspec": {
      "name": "python3",
      "display_name": "Python 3"
    }
  },
  "cells": [
    {
      "cell_type": "code",
      "metadata": {
        "colab": {
          "base_uri": "https://localhost:8080/",
          "height": 296
        },
        "id": "cG2CIjrgiD8_",
        "outputId": "9da56980-7237-4d24-c05a-e33570ef0f8a"
      },
      "source": [
        "# Chapter 1, problem 21\n",
        "import numpy as np\n",
        "import matplotlib.pyplot as plt\n",
        "\n",
        "class vec:\n",
        "    def __init__(self):\n",
        "        self.iter = []\n",
        "        self.frac = []\n",
        "\n",
        "def toss(n, probHead):\n",
        "  frac = []\n",
        "  cnt = 0\n",
        "  for i in range(n):\n",
        "    res = np.random.choice(a = [1, 0], p = [probHead, 1-probHead])\n",
        "    if res == 1:\n",
        "      cnt += 1\n",
        "    frac.append(cnt/(i+1))  \n",
        "  return frac\n",
        "\n",
        "frac = toss(1000, .3)\n",
        "plt.plot(range(len(frac)), frac, 'o')\n",
        "plt.xlabel(\"iteration\")\n",
        "plt.ylabel(\"fraction of heads\")"
      ],
      "execution_count": null,
      "outputs": [
        {
          "output_type": "execute_result",
          "data": {
            "text/plain": [
              "Text(0, 0.5, 'fraction of heads')"
            ]
          },
          "metadata": {
            "tags": []
          },
          "execution_count": 53
        },
        {
          "output_type": "display_data",
          "data": {
            "image/png": "[encoded data removed]",
            "text/plain": [
              "<Figure size 432x288 with 1 Axes>"
            ]
          },
          "metadata": {
            "tags": [],
            "needs_background": "light"
          }
        }
      ]
    },
    {
      "cell_type": "code",
      "metadata": {
        "colab": {
          "base_uri": "https://localhost:8080/"
        },
        "id": "Nt0bPnL8l7gf",
        "outputId": "872127ee-971b-4206-f92c-a64f9e63630e"
      },
      "source": [
        "# Chapter 1, problem 22\n",
        "import numpy as np\n",
        "\n",
        "def flip(numFlips, pHead):\n",
        "  cnt = 0\n",
        "  for i in range(numFlips): \n",
        "    if (1 == np.random.choice(a = [1, 0], p = [pHead,1-pHead])):\n",
        "      cnt += 1\n",
        "  return cnt \n",
        "\n",
        "def flipSim(numFlips, numTrials, pHead):\n",
        "  numHeads = []\n",
        "  for i in range(numTrials):\n",
        "    numHeads.append(flip(numFlips, pHead))\n",
        "  mean = sum(numHeads)/len(numHeads)\n",
        "  return mean\n",
        "\n",
        "probHead = .3\n",
        "nTrial = 50\n",
        "nFlips = 100\n",
        "res = flipSim(nFlips, nTrial, probHead)\n",
        "print(\"nTrial:\", nTrial, \" nFlips:\", nFlips, \" probHead: \", probHead, \" res: \", res)"
      ],
      "execution_count": null,
      "outputs": [
        {
          "output_type": "stream",
          "text": [
            "nTrial: 50  nFlips: 100  probHead:  0.3  res:  29.66\n"
          ],
          "name": "stdout"
        }
      ]
    },
    {
      "cell_type": "code",
      "metadata": {
        "id": "0naShQd8dwfs",
        "colab": {
          "base_uri": "https://localhost:8080/"
        },
        "outputId": "8a19d0a7-4b59-4595-e706-70df02d99291"
      },
      "source": [
        "# Chapter 1, problem 23\n",
        "import numpy as np\n",
        "\n",
        "def flipDie(numFlips):\n",
        "  eventA = [2,4,6]\n",
        "  eventB = [1,2,3,4]\n",
        "  y = [0, 0, 0]\n",
        "  for i in range(numFlips):\n",
        "    res = np.random.choice(a = [1,2,3,4,5,6])\n",
        "    if (res in eventA):\n",
        "      y[0] += 1 \n",
        "    if (res in eventB):\n",
        "      y[1] += 1 \n",
        "    if (res in eventA and res in eventB):\n",
        "      y[2] += 1  \n",
        "  return y\n",
        "\n",
        "numFlips = 10000;\n",
        "y = flipDie(numFlips)\n",
        "print(\"pA =\", y[0]/numFlips, \" , pB =\", y[1]/numFlips)\n",
        "print(\"pAxpB =\", y[0]*y[1]/numFlips/numFlips, \" , pAB =\", y[2]/numFlips)\n",
        "\n",
        "\n"
      ],
      "execution_count": null,
      "outputs": [
        {
          "output_type": "stream",
          "text": [
            "pA = 0.504  , pB = 0.661\n",
            "pAxpB = 0.333144  , pAB = 0.3336\n"
          ],
          "name": "stdout"
        }
      ]
    }
  ]
}